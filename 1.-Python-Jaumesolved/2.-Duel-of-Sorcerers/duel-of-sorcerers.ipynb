{
 "cells": [
  {
   "cell_type": "markdown",
   "metadata": {},
   "source": [
    "<img src=\"https://bit.ly/2VnXWr2\" width=\"100\" align=\"left\">"
   ]
  },
  {
   "cell_type": "markdown",
   "metadata": {},
   "source": [
    "# Duel of Sorcerers\n",
    "You are witnessing an epic battle between two powerful sorcerers: Gandalf and Saruman. Each sorcerer has 10 spells of variable power in their mind and they are going to throw them one after the other. The winner of the duel will be the one who wins more of those clashes between spells. Spells are represented as a list of 10 integers whose value equals the power of the spell.\n",
    "```\n",
    "gandalf = [10, 11, 13, 30, 22, 11, 10, 33, 22, 22]\n",
    "saruman = [23, 66, 12, 43, 12, 10, 44, 23, 12, 17]\n",
    "```\n",
    "For example:\n",
    "- The first clash is won by Saruman: 10 against 23.\n",
    "- The second clash is won by Saruman: 11 against 66.\n",
    "- ...\n",
    "\n",
    "You will create two variables, one for each sorcerer, where the sum of clashes won will be stored. Depending on which variable is greater at the end of the duel, you will show one of the following three results on the screen:\n",
    "* Gandalf wins\n",
    "* Saruman wins\n",
    "* Tie\n",
    "\n",
    "<img src=\"images/content_lightning_bolt_big.jpg\" width=\"400\">"
   ]
  },
  {
   "cell_type": "markdown",
   "metadata": {},
   "source": [
    "## Tools\n",
    "You don't necessarily need to use all the tools. Maybe you opt to use some of them or completely different ones, they are given to help you shape the exercise. Programming exercises can be solved in many different ways.\n",
    "\n",
    "1. Data structures: **lists, dictionaries**\n",
    "2. Loop: **for loop**\n",
    "3. Conditional statements: **if-elif-else**\n",
    "4. Functions: **range(), len(), print()**\n",
    "\n",
    "## Tasks\n",
    "\n",
    "#### 1. Create two variables called `gandalf` and `saruman` and assign them the spell power lists. Create a variable called `spells` to store the number of spells that the sorcerers cast. "
   ]
  },
  {
   "cell_type": "code",
   "execution_count": 2,
   "metadata": {},
   "outputs": [
    {
     "name": "stdout",
     "output_type": "stream",
     "text": [
      "0\n"
     ]
    }
   ],
   "source": [
    "gandalf = [10, 11, 13, 30, 22, 11, 10, 33, 22, 22]\n",
    "saruman = [23, 66, 12, 43, 12, 10, 44, 23, 12, 17]\n",
    "spells = 0"
   ]
  },
  {
   "cell_type": "markdown",
   "metadata": {},
   "source": [
    "#### 2. Create two variables called `gandalf_wins` and `saruman_wins`. Set both of them to 0. \n",
    "You will use these variables to count the number of clashes each sorcerer wins. "
   ]
  },
  {
   "cell_type": "code",
   "execution_count": null,
   "metadata": {},
   "outputs": [],
   "source": [
    "gandalf_wins = 0\n",
    "saruman_wins = 0"
   ]
  },
  {
   "cell_type": "markdown",
   "metadata": {},
   "source": [
    "#### 3. Using the lists of spells of both sorcerers, update variables `gandalf_wins` and `saruman_wins` to count the number of times each sorcerer wins a clash. "
   ]
  },
  {
   "cell_type": "code",
   "execution_count": 41,
   "metadata": {},
   "outputs": [
    {
     "name": "stdout",
     "output_type": "stream",
     "text": [
      "Gandalf wins 6 times.\n",
      "Saruman wins 4 times.\n",
      "Total spells 10\n"
     ]
    }
   ],
   "source": [
    "gandalf = [10, 11, 13, 30, 22, 11, 10, 33, 22, 22]\n",
    "saruman = [23, 66, 12, 43, 12, 10, 44, 23, 12, 17]\n",
    "spells = 0\n",
    "sspell = 0\n",
    "gandalf_wins = 0\n",
    "saruman_wins = 0\n",
    "for i in range(len(gandalf)):\n",
    "    spells += 1\n",
    "    if gandalf[i] > saruman[i]:\n",
    "        gandalf_wins = gandalf_wins + 1\n",
    "    else:\n",
    "        saruman_wins = saruman_wins + 1;\n",
    "        \n",
    "print('Gandalf wins',gandalf_wins,'times.')\n",
    "print('Saruman wins',saruman_wins,'times.')\n",
    "print('Total spells',spells)"
   ]
  },
  {
   "cell_type": "markdown",
   "metadata": {},
   "source": [
    "#### 4. Who won the battle?\n",
    "Print `Gandalf wins`, `Saruman wins` or `Tie` depending on the result. "
   ]
  },
  {
   "cell_type": "code",
   "execution_count": 42,
   "metadata": {},
   "outputs": [
    {
     "name": "stdout",
     "output_type": "stream",
     "text": [
      "Gandalf wins\n"
     ]
    }
   ],
   "source": [
    "gandalf = [10, 11, 13, 30, 22, 11, 10, 33, 22, 22]\n",
    "saruman = [23, 66, 12, 43, 12, 10, 44, 23, 12, 17]\n",
    "spells = 0\n",
    "sspell = 0\n",
    "gandalf_wins = 0\n",
    "saruman_wins = 0\n",
    "for i in range(len(gandalf)):\n",
    "    spells += 1\n",
    "    if gandalf[i] > saruman[i]:\n",
    "        gandalf_wins = gandalf_wins + 1\n",
    "    else:\n",
    "        saruman_wins = saruman_wins + 1\n",
    "    continue\n",
    "\n",
    "if gandalf_wins > saruman_wins:\n",
    "    print('Gandalf wins')\n",
    "elif gandalf_wins < saruman_wins:\n",
    "    print('Saruman wins')\n",
    "else:\n",
    "    print('Tie')"
   ]
  },
  {
   "cell_type": "markdown",
   "metadata": {},
   "source": [
    "## Bonus\n",
    "\n",
    "In this bonus challenge, you'll need to check the winner of the battle but this time, a sorcerer wins if he succeeds in winning 3 spell clashes in a row.\n",
    "\n",
    "Also, the spells now have a name and there is a dictionary that associates that name to a power.\n",
    "\n",
    "```\n",
    "POWER = {\n",
    "    'Fireball': 50, \n",
    "    'Lightning bolt': 40, \n",
    "    'Magic arrow': 10, \n",
    "    'Black Tentacles': 25, \n",
    "    'Contagion': 45\n",
    "}\n",
    "\n",
    "gandalf = ['Fireball', 'Lightning bolt', 'Lightning bolt', 'Magic arrow', 'Fireball','Magic arrow', 'Lightning bolt', 'Fireball', 'Fireball', 'Fireball']\n",
    "saruman = ['Contagion', 'Contagion', 'Black Tentacles', 'Fireball', 'Black Tentacles','Lightning bolt', 'Magic arrow', 'Contagion', 'Magic arrow', 'Magic arrow']\n",
    "```\n",
    "\n",
    "#### 1. Create variables `POWER`, `gandalf` and `saruman` as seen above. Create a variable called `spells` to store the number of spells that the sorcerers cast. "
   ]
  },
  {
   "cell_type": "code",
   "execution_count": null,
   "metadata": {},
   "outputs": [],
   "source": [
    "POWER = {\n",
    "    'Fireball': 50, \n",
    "    'Lightning bolt': 40, \n",
    "    'Magic arrow': 10, \n",
    "    'Black Tentacles': 25, \n",
    "    'Contagion': 45\n",
    "}\n",
    "\n",
    "gandalf = ['Fireball', 'Lightning bolt', 'Lightning bolt', 'Magic arrow', 'Fireball', \n",
    "           'Magic arrow', 'Lightning bolt', 'Fireball', 'Fireball', 'Fireball']\n",
    "saruman = ['Contagion', 'Contagion', 'Black Tentacles', 'Fireball', 'Black Tentacles', \n",
    "           'Lightning bolt', 'Magic arrow', 'Contagion', 'Magic arrow', 'Magic arrow']\n",
    "spells = 0"
   ]
  },
  {
   "cell_type": "markdown",
   "metadata": {},
   "source": [
    "#### 2. Create two variables called `gandalf_wins` and `saruman_wins`. Set both of them to 0. "
   ]
  },
  {
   "cell_type": "code",
   "execution_count": null,
   "metadata": {},
   "outputs": [],
   "source": [
    "gandalf_wins = 0\n",
    "saruman_wins = 0"
   ]
  },
  {
   "cell_type": "markdown",
   "metadata": {},
   "source": [
    "#### 3. Create two variables called `gandalf_power` and `saruman_power` to store the list of spell powers of each sorcerer."
   ]
  },
  {
   "cell_type": "code",
   "execution_count": 2,
   "metadata": {},
   "outputs": [],
   "source": [
    "gandalf_power = list()\n",
    "saruman_power = list()"
   ]
  },
  {
   "cell_type": "markdown",
   "metadata": {},
   "source": [
    "#### 4. The battle starts! Using the variables you've created above, code the execution of spell clashes. Remember that a sorcerer wins if he succeeds in winning 3 spell clashes in a row. \n",
    "If a clash ends up in a tie, the counter of wins in a row is not restarted to 0. Remember to print who is the winner of the battle. "
   ]
  },
  {
   "cell_type": "code",
   "execution_count": 19,
   "metadata": {},
   "outputs": [
    {
     "name": "stdout",
     "output_type": "stream",
     "text": [
      "Gandalf power: [50, 40, 40, 10, 50, 10, 40, 50, 50, 50]\n",
      "Saruman power: [45, 45, 25, 50, 25, 40, 10, 45, 10, 10]\n",
      "Gandalf wins!\n"
     ]
    }
   ],
   "source": [
    "power = {\n",
    "    'Fireball': 50, \n",
    "    'Lightning bolt': 40, \n",
    "    'Magic arrow': 10, \n",
    "    'Black Tentacles': 25, \n",
    "    'Contagion': 45,\n",
    "}\n",
    "\n",
    "gandalf = ['Fireball', 'Lightning bolt', 'Lightning bolt', 'Magic arrow', 'Fireball', \n",
    "           'Magic arrow', 'Lightning bolt', 'Fireball', 'Fireball', 'Fireball']\n",
    "saruman = ['Contagion', 'Contagion', 'Black Tentacles', 'Fireball', 'Black Tentacles', \n",
    "           'Lightning bolt', 'Magic arrow', 'Contagion', 'Magic arrow', 'Magic arrow']\n",
    "spells = 0\n",
    "gandalf_wins = 0\n",
    "saruman_wins = 0\n",
    "gandalf_power = list()\n",
    "saruman_power = list()\n",
    "winner = list()\n",
    "\n",
    "#Please note I am very unhappy with the code below and I hope to learn a better way to do it soon.\n",
    "for i in range(len(gandalf)):\n",
    "    if gandalf[i] == 'Fireball':\n",
    "        gandalf_power.append(int(50))\n",
    "    if saruman[i] == 'Fireball':\n",
    "        saruman_power.append(int(50))\n",
    "    if gandalf[i] == 'Lightning bolt':\n",
    "        gandalf_power.append(int(40))\n",
    "    if saruman[i] == 'Lightning bolt':\n",
    "        saruman_power.append(int(40))\n",
    "    if gandalf[i] == 'Magic arrow':\n",
    "        gandalf_power.append(int(10))\n",
    "    if saruman[i] == 'Magic arrow':\n",
    "        saruman_power.append(int(10))\n",
    "    if gandalf[i] == 'Black Tentacles':\n",
    "        gandalf_power.append(int(25))\n",
    "    if saruman[i] == 'Black Tentacles':\n",
    "        saruman_power.append(int(25))\n",
    "    if gandalf[i] == 'Contagion':\n",
    "        gandalf_power.append(int(45))\n",
    "    if saruman[i] == 'Contagion':\n",
    "        saruman_power.append(int(45))\n",
    "        \n",
    "print('Gandalf power:',gandalf_power)\n",
    "print('Saruman power:',saruman_power)\n",
    "\n",
    "gandalfrow = 0\n",
    "sarumanrow = 0\n",
    "for i in range(len(gandalf_power)):\n",
    "    spells += 1\n",
    "    if gandalf_power[i] > saruman_power[i]:\n",
    "        gandalf_wins = gandalf_wins + 1\n",
    "        winner.append('Gandalf')\n",
    "        gandalfrow = gandalfrow + 1\n",
    "        sarumanrow = 0\n",
    "    else:\n",
    "        saruman_wins = saruman_wins + 1\n",
    "        winner.append('Saruman')\n",
    "        gandalfrow = 0\n",
    "        sarumanrow = sarumanrow + 1\n",
    "    if gandalfrow == 3:\n",
    "        print('Gandalf wins!')\n",
    "        quit\n",
    "    if sarumanrow == 3:\n",
    "        print('Saruman wins!')\n",
    "        quit\n",
    "    continue\n",
    "    \n",
    "\n",
    "\n",
    "    \n",
    "        "
   ]
  },
  {
   "cell_type": "markdown",
   "metadata": {},
   "source": [
    "#### 5. Find the average spell power of Gandalf and Saruman. "
   ]
  },
  {
   "cell_type": "code",
   "execution_count": 22,
   "metadata": {},
   "outputs": [
    {
     "name": "stdout",
     "output_type": "stream",
     "text": [
      "The average power of Gandald is: 39.0\n",
      "The average power of Saruman is: 30.5\n"
     ]
    }
   ],
   "source": [
    "Gandalf_power= [50, 40, 40, 10, 50, 10, 40, 50, 50, 50]\n",
    "Saruman_power= [45, 45, 25, 50, 25, 40, 10, 45, 10, 10]\n",
    "print('The average power of Gandald is:',sum(Gandalf_power)/len(Gandalf_power))\n",
    "print('The average power of Saruman is:',sum(Saruman_power)/len(Saruman_power))"
   ]
  },
  {
   "cell_type": "markdown",
   "metadata": {},
   "source": [
    "#### 6. Find the standard deviation of the spell power of Gandalf and Saruman. "
   ]
  },
  {
   "cell_type": "code",
   "execution_count": 25,
   "metadata": {},
   "outputs": [
    {
     "name": "stdout",
     "output_type": "stream",
     "text": [
      "The standard deviation is 15.13 for Gandalf and 15.56 for Saruman\n"
     ]
    }
   ],
   "source": [
    "Gandalf_power= [50, 40, 40, 10, 50, 10, 40, 50, 50, 50]\n",
    "Saruman_power= [45, 45, 25, 50, 25, 40, 10, 45, 10, 10]\n",
    "Gan_avg= sum(Gandalf_power)/len(Gandalf_power)\n",
    "Sar_avg= sum(Saruman_power)/len(Saruman_power)\n",
    "Gan_var  = sum(pow(d-Gan_avg,2) for d in Gandalf_power) / len(Gandalf_power)\n",
    "Sar_var  = sum(pow(d-Sar_avg,2) for d in Saruman_power) / len(Saruman_power)\n",
    "Gan_std  = round((Gan_var)**(1/2),2)\n",
    "Sar_std  = round((Sar_var)**(1/2),2)\n",
    "print('The standard deviation is',Gan_std,'for Gandalf and',Sar_std,'for Saruman')"
   ]
  },
  {
   "cell_type": "code",
   "execution_count": null,
   "metadata": {},
   "outputs": [],
   "source": []
  }
 ],
 "metadata": {
  "kernelspec": {
   "display_name": "Python 3",
   "language": "python",
   "name": "python3"
  },
  "language_info": {
   "codemirror_mode": {
    "name": "ipython",
    "version": 3
   },
   "file_extension": ".py",
   "mimetype": "text/x-python",
   "name": "python",
   "nbconvert_exporter": "python",
   "pygments_lexer": "ipython3",
   "version": "3.7.3"
  }
 },
 "nbformat": 4,
 "nbformat_minor": 2
}
