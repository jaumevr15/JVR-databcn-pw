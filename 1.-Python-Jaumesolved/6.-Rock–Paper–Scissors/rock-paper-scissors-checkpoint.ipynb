{
 "cells": [
  {
   "cell_type": "markdown",
   "metadata": {},
   "source": [
    "<img src=\"https://bit.ly/2VnXWr2\" width=\"100\" align=\"left\">"
   ]
  },
  {
   "cell_type": "markdown",
   "metadata": {},
   "source": [
    "# Rock, Paper & Scissors\n",
    "\n",
    "Let's play the famous game against our computer. You can check the rules [here](https://en.wikipedia.org/wiki/Rock%E2%80%93paper%E2%80%93scissors). \n",
    "\n",
    "## Task\n",
    "Create a program that imitates the playability of the well known game of rock, paper, scissors. Follow the guidelines provided.\n",
    "\n",
    "## Tools\n",
    "1. Loop: **for/while**\n",
    "2. Functions: **input(), print()...**\n",
    "3. Conditional statements: **if, elif, else**\n",
    "4. Definition of functions. Modular programming\n",
    "5. Import modules\n",
    "\n",
    "**To solve this challenge, the use of functions is recommended.**\n",
    "\n",
    "#### 1. Import the choice function of the random module."
   ]
  },
  {
   "cell_type": "code",
   "execution_count": 1,
   "metadata": {},
   "outputs": [],
   "source": [
    "import random"
   ]
  },
  {
   "cell_type": "markdown",
   "metadata": {},
   "source": [
    "#### 2. Create a list that includes the 3 possible gesture options of the game: 'rock', 'paper' or 'scissors'. Store the list in a variable called `gestures`."
   ]
  },
  {
   "cell_type": "code",
   "execution_count": 6,
   "metadata": {},
   "outputs": [
    {
     "data": {
      "text/plain": [
       "'paper'"
      ]
     },
     "execution_count": 6,
     "metadata": {},
     "output_type": "execute_result"
    }
   ],
   "source": [
    "gestures = ['rock','paper','scissors']"
   ]
  },
  {
   "cell_type": "markdown",
   "metadata": {},
   "source": [
    "#### 3. Create a variable called `n_rounds` to store the maximum number of rounds to play in a game. \n",
    "Remember that the number of rounds must be odd: 1, 3, 5, ..."
   ]
  },
  {
   "cell_type": "code",
   "execution_count": null,
   "metadata": {},
   "outputs": [],
   "source": [
    "n_rounds = 10"
   ]
  },
  {
   "cell_type": "markdown",
   "metadata": {},
   "source": [
    "#### 4. Create a variable called `rounds_to_win` to store the number of rounds that a player must win to win the game.\n",
    "**Hint**: the value stored in `rounds_to_win` depends on the value of `n_rounds`. "
   ]
  },
  {
   "cell_type": "code",
   "execution_count": null,
   "metadata": {},
   "outputs": [],
   "source": [
    "rounds_to_win = 3"
   ]
  },
  {
   "cell_type": "markdown",
   "metadata": {},
   "source": [
    "#### 5. Create two variables to store the number of rounds that the computer and the player have won. Call these variables `cpu_score` and `player_score`."
   ]
  },
  {
   "cell_type": "code",
   "execution_count": null,
   "metadata": {},
   "outputs": [],
   "source": [
    "cpu_score = 0\n",
    "player_score = 0"
   ]
  },
  {
   "cell_type": "markdown",
   "metadata": {},
   "source": [
    "#### 6. Define a function that randomly returns one of the 3 gesture options.\n",
    "You will use this function to simulate the gesture choice of the computer. "
   ]
  },
  {
   "cell_type": "code",
   "execution_count": 9,
   "metadata": {},
   "outputs": [
    {
     "name": "stdout",
     "output_type": "stream",
     "text": [
      "rock\n"
     ]
    }
   ],
   "source": [
    "cpu_choice = random.choice(gestures)"
   ]
  },
  {
   "cell_type": "markdown",
   "metadata": {},
   "source": [
    "#### 7. Define a function that asks the player which is the gesture he or she wants to show: 'rock', 'paper' or 'scissors'.\n",
    "The player should only be allowed to choose one of the 3 gesture options. If the player's choice is not rock, paper or scissors, keep asking until it is."
   ]
  },
  {
   "cell_type": "code",
   "execution_count": null,
   "metadata": {},
   "outputs": [],
   "source": [
    "player_choice = input('Which gesture do you want to show? rock, paper or scissors?',)\n",
    "if player_choice not in gestures:\n",
    "    print('Hey ~€€#~¬#~¬! You cannot do this gesture with your hand, can you?')"
   ]
  },
  {
   "cell_type": "markdown",
   "metadata": {},
   "source": [
    "#### 8. Define a function that checks who won a round. \n",
    "The function should return 0 if there is a tie, 1 if the computer wins and 2 if the player wins."
   ]
  },
  {
   "cell_type": "code",
   "execution_count": 2,
   "metadata": {
    "scrolled": true
   },
   "outputs": [
    {
     "name": "stdout",
     "output_type": "stream",
     "text": [
      "Which gesture do you want to show? rock, paper or scissors?rock\n",
      "CPU choice is: paper\n",
      "You lose! paper covers rock\n",
      "Current score is Player: 0 CPU: 1\n",
      "Which gesture do you want to show? rock, paper or scissors?paper\n",
      "CPU choice is: rock\n",
      "You win! paper covers rock\n",
      "Current score is Player: 1 CPU: 1\n",
      "Which gesture do you want to show? rock, paper or scissors?scissors\n",
      "CPU choice is: paper\n",
      "You win! scissors cut paper\n",
      "Current score is Player: 2 CPU: 1\n",
      "Which gesture do you want to show? rock, paper or scissors?paper\n",
      "CPU choice is: paper\n",
      "Tie!\n",
      "Current score is Player: 2 CPU: 1\n",
      "Which gesture do you want to show? rock, paper or scissors?paper\n",
      "CPU choice is: rock\n",
      "You win! paper covers rock\n",
      "Current score is Player: 3 CPU: 1\n",
      "The game is over! The final result is Player: 3 CPU: 1\n"
     ]
    }
   ],
   "source": [
    "gestures = ['rock','paper','scissors']\n",
    "cpu_choice = random.choice(gestures)\n",
    "cpu_score = 0\n",
    "player_score = 0\n",
    "rounds_to_win = 3\n",
    "n_rounds = 10\n",
    "c_rounds = 0\n",
    "\n",
    "while player_score or cpu_score < rounds_to_win:\n",
    "    cpu_choice = random.choice(gestures)\n",
    "    player_choice = input('Which gesture do you want to show? rock, paper or scissors?',)\n",
    "    print('CPU choice is:',cpu_choice)\n",
    "    c_rounds = c_rounds + 1\n",
    "    if player_choice not in gestures:\n",
    "        print('Hey ~€€#~¬#~¬! You cannot do this gesture with your hand, can you?')\n",
    "    if player_choice == cpu_choice: \n",
    "        print(\"Tie!\")\n",
    "        print('Current score is Player:',player_score,'CPU:',cpu_score)\n",
    "    elif player_choice == \"rock\":\n",
    "        if cpu_choice == \"paper\":\n",
    "            cpu_score = cpu_score + 1\n",
    "            print(\"You lose!\", cpu_choice, \"covers\", player_choice)\n",
    "            print('Current score is Player:',player_score,'CPU:',cpu_score)\n",
    "        else:\n",
    "            player_score = player_score + 1\n",
    "            print(\"You win!\", player_choice, \"smashes\", cpu_choice)\n",
    "            print('Current score is Player:',player_score,'CPU:',cpu_score)\n",
    "    elif player_choice == \"paper\":\n",
    "        if cpu_choice == \"scissors\":\n",
    "            cpu_score = cpu_score + 1\n",
    "            print(\"You lose!\", cpu_choice, \"cut\", player_choice)\n",
    "            print('Current score is Player:',player_score,'CPU:',cpu_score)\n",
    "        else:\n",
    "            player_score = player_score + 1\n",
    "            print(\"You win!\", player_choice, \"covers\", cpu_choice)\n",
    "            print('Current score is Player:',player_score,'CPU:',cpu_score)\n",
    "    elif player_choice == \"scissors\":\n",
    "        if cpu_choice == \"rock\":\n",
    "            cpu_score = cpu_score + 1\n",
    "            print(\"You lose...\", cpu_choice, \"smashes\", player_choice)\n",
    "            print('Current score is Player:',player_score,'CPU:',cpu_score)\n",
    "        else:\n",
    "            player_score = player_score + 1\n",
    "            print(\"You win!\", player_choice, \"cut\", cpu_choice)\n",
    "            print('Current score is Player:',player_score,'CPU:',cpu_score)\n",
    "    if c_rounds == 10: break\n",
    "    if cpu_score == 3: break\n",
    "    if player_score == 3: break\n",
    "\n",
    "print('The game is over! The final result is Player:',player_score,'CPU:',cpu_score)\n",
    "\n",
    "    \n"
   ]
  },
  {
   "cell_type": "raw",
   "metadata": {},
   "source": [
    "#### 9. Define a function that prints the choice of the computer, the choice of the player and a message that announces who won the current round. \n",
    "You should also use this function to update the variables that count the number of rounds that the computer and the player have won. The score of the winner increases by one point. If there is a tie, the score does not increase."
   ]
  },
  {
   "cell_type": "code",
   "execution_count": 3,
   "metadata": {},
   "outputs": [
    {
     "name": "stdout",
     "output_type": "stream",
     "text": [
      "Which gesture do you want to show? rock, paper or scissors?rock\n",
      "CPU choice is: rock\n",
      "Tie!\n",
      "Current score is Player: 0 CPU: 0\n",
      "Which gesture do you want to show? rock, paper or scissors?rock\n",
      "CPU choice is: paper\n",
      "You lose! paper covers rock\n",
      "Current score is Player: 0 CPU: 1\n",
      "Which gesture do you want to show? rock, paper or scissors?rock\n",
      "CPU choice is: paper\n",
      "You lose! paper covers rock\n",
      "Current score is Player: 0 CPU: 2\n",
      "Which gesture do you want to show? rock, paper or scissors?rock\n",
      "CPU choice is: paper\n",
      "You lose! paper covers rock\n",
      "Current score is Player: 0 CPU: 3\n",
      "The game is over! The final result is Player: 0 CPU: 3\n"
     ]
    }
   ],
   "source": [
    "gestures = ['rock','paper','scissors']\n",
    "cpu_choice = random.choice(gestures)\n",
    "cpu_score = 0\n",
    "player_score = 0\n",
    "rounds_to_win = 3\n",
    "n_rounds = 10\n",
    "c_rounds = 0\n",
    "\n",
    "while player_score or cpu_score < rounds_to_win:\n",
    "    cpu_choice = random.choice(gestures)\n",
    "    player_choice = input('Which gesture do you want to show? rock, paper or scissors?',)\n",
    "    print('CPU choice is:',cpu_choice)\n",
    "    c_rounds = c_rounds + 1\n",
    "    if player_choice not in gestures:\n",
    "        print('Hey ~€€#~¬#~¬! You cannot do this gesture with your hand, can you?')\n",
    "    if player_choice == cpu_choice: \n",
    "        print(\"Tie!\")\n",
    "        print('Current score is Player:',player_score,'CPU:',cpu_score)\n",
    "    elif player_choice == \"rock\":\n",
    "        if cpu_choice == \"paper\":\n",
    "            cpu_score = cpu_score + 1\n",
    "            print(\"You lose!\", cpu_choice, \"covers\", player_choice)\n",
    "            print('Current score is Player:',player_score,'CPU:',cpu_score)\n",
    "        else:\n",
    "            player_score = player_score + 1\n",
    "            print(\"You win!\", player_choice, \"smashes\", cpu_choice)\n",
    "            print('Current score is Player:',player_score,'CPU:',cpu_score)\n",
    "    elif player_choice == \"paper\":\n",
    "        if cpu_choice == \"scissors\":\n",
    "            cpu_score = cpu_score + 1\n",
    "            print(\"You lose!\", cpu_choice, \"cut\", player_choice)\n",
    "            print('Current score is Player:',player_score,'CPU:',cpu_score)\n",
    "        else:\n",
    "            player_score = player_score + 1\n",
    "            print(\"You win!\", player_choice, \"covers\", cpu_choice)\n",
    "            print('Current score is Player:',player_score,'CPU:',cpu_score)\n",
    "    elif player_choice == \"scissors\":\n",
    "        if cpu_choice == \"rock\":\n",
    "            cpu_score = cpu_score + 1\n",
    "            print(\"You lose...\", cpu_choice, \"smashes\", player_choice)\n",
    "            print('Current score is Player:',player_score,'CPU:',cpu_score)\n",
    "        else:\n",
    "            player_score = player_score + 1\n",
    "            print(\"You win!\", player_choice, \"cut\", cpu_choice)\n",
    "            print('Current score is Player:',player_score,'CPU:',cpu_score)\n",
    "    if c_rounds == 10: break\n",
    "    if cpu_score == 3: break\n",
    "    if player_score == 3: break\n",
    "\n",
    "print('The game is over! The final result is Player:',player_score,'CPU:',cpu_score)"
   ]
  },
  {
   "cell_type": "markdown",
   "metadata": {},
   "source": [
    "#### 10. Now it's time to code the execution of the game using the functions and variables you defined above. \n",
    "\n",
    "First, create a loop structure that repeats while no player reaches the minimum score necessary to win and the number of rounds is less than the maximum number of rounds to play in a game.  \n",
    "\n",
    "Inside the loop, use the functions and variables above to create the execution of a round: ask for the player's choice, generate the random choice of the computer, show the round results, update the scores, etc. "
   ]
  },
  {
   "cell_type": "code",
   "execution_count": 4,
   "metadata": {},
   "outputs": [
    {
     "name": "stdout",
     "output_type": "stream",
     "text": [
      "Which gesture do you want to show? rock, paper or scissors?ororo\n",
      "CPU choice is: scissors\n",
      "Hey ~€€#~¬#~¬! You cannot do this gesture with your hand, can you?\n",
      "Which gesture do you want to show? rock, paper or scissors?rock\n",
      "CPU choice is: paper\n",
      "You lose! paper covers rock\n",
      "Current score is Player: 0 CPU: 1\n",
      "Which gesture do you want to show? rock, paper or scissors?scissors\n",
      "CPU choice is: rock\n",
      "You lose... rock smashes scissors\n",
      "Current score is Player: 0 CPU: 2\n",
      "Which gesture do you want to show? rock, paper or scissors?paper\n",
      "CPU choice is: paper\n",
      "Tie!\n",
      "Current score is Player: 0 CPU: 2\n",
      "Which gesture do you want to show? rock, paper or scissors?paper\n",
      "CPU choice is: scissors\n",
      "You lose! scissors cut paper\n",
      "Current score is Player: 0 CPU: 3\n",
      "The game is over! The final result is Player: 0 CPU: 3\n"
     ]
    }
   ],
   "source": [
    "gestures = ['rock','paper','scissors']\n",
    "cpu_choice = random.choice(gestures)\n",
    "cpu_score = 0\n",
    "player_score = 0\n",
    "rounds_to_win = 3\n",
    "n_rounds = 10\n",
    "c_rounds = 0\n",
    "\n",
    "while player_score or cpu_score < rounds_to_win:\n",
    "    cpu_choice = random.choice(gestures)\n",
    "    player_choice = input('Which gesture do you want to show? rock, paper or scissors?',)\n",
    "    print('CPU choice is:',cpu_choice)\n",
    "    c_rounds = c_rounds + 1\n",
    "    if player_choice not in gestures:\n",
    "        print('Hey ~€€#~¬#~¬! You cannot do this gesture with your hand, can you?')\n",
    "    if player_choice == cpu_choice: \n",
    "        print(\"Tie!\")\n",
    "        print('Current score is Player:',player_score,'CPU:',cpu_score)\n",
    "    elif player_choice == \"rock\":\n",
    "        if cpu_choice == \"paper\":\n",
    "            cpu_score = cpu_score + 1\n",
    "            print(\"You lose!\", cpu_choice, \"covers\", player_choice)\n",
    "            print('Current score is Player:',player_score,'CPU:',cpu_score)\n",
    "        else:\n",
    "            player_score = player_score + 1\n",
    "            print(\"You win!\", player_choice, \"smashes\", cpu_choice)\n",
    "            print('Current score is Player:',player_score,'CPU:',cpu_score)\n",
    "    elif player_choice == \"paper\":\n",
    "        if cpu_choice == \"scissors\":\n",
    "            cpu_score = cpu_score + 1\n",
    "            print(\"You lose!\", cpu_choice, \"cut\", player_choice)\n",
    "            print('Current score is Player:',player_score,'CPU:',cpu_score)\n",
    "        else:\n",
    "            player_score = player_score + 1\n",
    "            print(\"You win!\", player_choice, \"covers\", cpu_choice)\n",
    "            print('Current score is Player:',player_score,'CPU:',cpu_score)\n",
    "    elif player_choice == \"scissors\":\n",
    "        if cpu_choice == \"rock\":\n",
    "            cpu_score = cpu_score + 1\n",
    "            print(\"You lose...\", cpu_choice, \"smashes\", player_choice)\n",
    "            print('Current score is Player:',player_score,'CPU:',cpu_score)\n",
    "        else:\n",
    "            player_score = player_score + 1\n",
    "            print(\"You win!\", player_choice, \"cut\", cpu_choice)\n",
    "            print('Current score is Player:',player_score,'CPU:',cpu_score)\n",
    "    if c_rounds == 10: break\n",
    "    if cpu_score == 3: break\n",
    "    if player_score == 3: break\n",
    "\n",
    "print('The game is over! The final result is Player:',player_score,'CPU:',cpu_score)"
   ]
  },
  {
   "cell_type": "markdown",
   "metadata": {},
   "source": [
    "#### 11. Print the winner of the game based on who won more rounds.\n",
    "Remember that the game might be tied. "
   ]
  },
  {
   "cell_type": "code",
   "execution_count": 2,
   "metadata": {},
   "outputs": [
    {
     "name": "stdout",
     "output_type": "stream",
     "text": [
      "Which gesture do you want to show? rock, paper or scissors?rock\n",
      "CPU choice is: scissors\n",
      "You win! rock smashes scissors\n",
      "Current score is Player: 1 CPU: 0\n",
      "Which gesture do you want to show? rock, paper or scissors?rock\n",
      "CPU choice is: rock\n",
      "Tie!\n",
      "Current score is Player: 1 CPU: 0\n",
      "Which gesture do you want to show? rock, paper or scissors?rock\n",
      "CPU choice is: paper\n",
      "You lose! paper covers rock\n",
      "Current score is Player: 1 CPU: 1\n",
      "Which gesture do you want to show? rock, paper or scissors?paper\n",
      "CPU choice is: paper\n",
      "Tie!\n",
      "Current score is Player: 1 CPU: 1\n",
      "Which gesture do you want to show? rock, paper or scissors?paper\n",
      "CPU choice is: paper\n",
      "Tie!\n",
      "Current score is Player: 1 CPU: 1\n",
      "Which gesture do you want to show? rock, paper or scissors?paper\n",
      "CPU choice is: rock\n",
      "You win! paper covers rock\n",
      "Current score is Player: 2 CPU: 1\n",
      "Which gesture do you want to show? rock, paper or scissors?paper\n",
      "CPU choice is: paper\n",
      "Tie!\n",
      "Current score is Player: 2 CPU: 1\n",
      "Which gesture do you want to show? rock, paper or scissors?paper\n",
      "CPU choice is: scissors\n",
      "You lose! scissors cut paper\n",
      "Current score is Player: 2 CPU: 2\n",
      "Which gesture do you want to show? rock, paper or scissors?rock\n",
      "CPU choice is: paper\n",
      "You lose! paper covers rock\n",
      "Current score is Player: 2 CPU: 3\n",
      "The game is over! Are machines greater than humans? It seems it is! CPU has won with a final score of Player: 2 CPU: 3\n"
     ]
    }
   ],
   "source": [
    "gestures = ['rock','paper','scissors']\n",
    "cpu_choice = random.choice(gestures)\n",
    "cpu_score = 0\n",
    "player_score = 0\n",
    "rounds_to_win = 3\n",
    "n_rounds = 10\n",
    "c_rounds = 0\n",
    "\n",
    "while player_score or cpu_score < rounds_to_win:\n",
    "    cpu_choice = random.choice(gestures)\n",
    "    player_choice = input('Which gesture do you want to show? rock, paper or scissors?',)\n",
    "    print('CPU choice is:',cpu_choice)\n",
    "    c_rounds = c_rounds + 1\n",
    "    if player_choice not in gestures:\n",
    "        print('Hey ~€€#~¬#~¬! You cannot do this gesture with your hand, can you?')\n",
    "    if player_choice == cpu_choice: \n",
    "        print(\"Tie!\")\n",
    "        print('Current score is Player:',player_score,'CPU:',cpu_score)\n",
    "    elif player_choice == \"rock\":\n",
    "        if cpu_choice == \"paper\":\n",
    "            cpu_score = cpu_score + 1\n",
    "            print(\"You lose!\", cpu_choice, \"covers\", player_choice)\n",
    "            print('Current score is Player:',player_score,'CPU:',cpu_score)\n",
    "        else:\n",
    "            player_score = player_score + 1\n",
    "            print(\"You win!\", player_choice, \"smashes\", cpu_choice)\n",
    "            print('Current score is Player:',player_score,'CPU:',cpu_score)\n",
    "    elif player_choice == \"paper\":\n",
    "        if cpu_choice == \"scissors\":\n",
    "            cpu_score = cpu_score + 1\n",
    "            print(\"You lose!\", cpu_choice, \"cut\", player_choice)\n",
    "            print('Current score is Player:',player_score,'CPU:',cpu_score)\n",
    "        else:\n",
    "            player_score = player_score + 1\n",
    "            print(\"You win!\", player_choice, \"covers\", cpu_choice)\n",
    "            print('Current score is Player:',player_score,'CPU:',cpu_score)\n",
    "    elif player_choice == \"scissors\":\n",
    "        if cpu_choice == \"rock\":\n",
    "            cpu_score = cpu_score + 1\n",
    "            print(\"You lose...\", cpu_choice, \"smashes\", player_choice)\n",
    "            print('Current score is Player:',player_score,'CPU:',cpu_score)\n",
    "        else:\n",
    "            player_score = player_score + 1\n",
    "            print(\"You win!\", player_choice, \"cut\", cpu_choice)\n",
    "            print('Current score is Player:',player_score,'CPU:',cpu_score)\n",
    "    if c_rounds == 10: break\n",
    "    if cpu_score == 3: break\n",
    "    if player_score == 3: break\n",
    "\n",
    "if player_score > cpu_score:\n",
    "    print('The game is over! Humans do better! The player has won with a final score of Player:',player_score,'CPU:',cpu_score)\n",
    "else: print('The game is over! Are machines greater than humans? It seems they are! CPU has won with a final score of Player:',player_score,'CPU:',cpu_score)"
   ]
  },
  {
   "cell_type": "markdown",
   "metadata": {},
   "source": [
    "# Bonus: Rock, Paper, Scissors, Lizard & Spock\n",
    "![](images/rpsls.jpg)\n",
    "\n",
    "In this challenge, you need to improve the previous game by adding two new options. To know more about the rules of the improved version of rock, paper, scissors, check this [link](http://www.samkass.com/theories/RPSSL.html). \n",
    "\n",
    "In addition, you will also need to improve how the game interacts with the player: the number of rounds to play, which must be an odd number, will be requested to the user until a valid number is entered. Define a new function to make that request.\n",
    "\n",
    "**Hint**: Try to reuse the code that you already coded in the previous challenge. If your code is efficient, this bonus will only consist of simple modifications to the original game."
   ]
  },
  {
   "cell_type": "code",
   "execution_count": null,
   "metadata": {
    "scrolled": false
   },
   "outputs": [],
   "source": [
    "gestures = ['rock','paper','scissors','spock','lizard']\n",
    "cpu_choice = random.choice(gestures)\n",
    "cpu_score = 0\n",
    "player_score = 0\n",
    "rounds_to_win = int(input('How many rounds to win? It must be an odd number',))\n",
    "while rounds_to_win % 2 == 0:\n",
    "    print(\"Hey! We said odd number!\")\n",
    "    rounds_to_win = int(input('How many rounds to win? It must be an odd number',))\n",
    "   \n",
    "n_rounds = rounds_to_win * 3\n",
    "c_rounds = 0\n",
    "while player_score or cpu_score < rounds_to_win:\n",
    "    cpu_choice = random.choice(gestures)\n",
    "    player_choice = input('Which will be your gesture? rock, paper, scissors, spock or lizard',)\n",
    "    print('CPU choice is:',cpu_choice)\n",
    "    c_rounds = c_rounds + 1\n",
    "    if player_choice not in gestures:\n",
    "        print('Hey ~€€#~¬#~¬! You cannot do this gesture with your hand, can you?')\n",
    "    if player_choice == cpu_choice: \n",
    "        print(\"Tie!\")\n",
    "        print('Current score is Player:',player_score,'CPU:',cpu_score)\n",
    "    elif player_choice == \"rock\":\n",
    "        if cpu_choice == \"paper\" or \"spock\":\n",
    "            cpu_score = cpu_score + 1\n",
    "            print(\"You lose!\")\n",
    "            print('Current score is Player:',player_score,'CPU:',cpu_score)\n",
    "        else:\n",
    "            player_score = player_score + 1\n",
    "            print(\"You win!\")\n",
    "            print('Current score is Player:',player_score,'CPU:',cpu_score)\n",
    "    elif player_choice == \"paper\":\n",
    "        if cpu_choice == \"scissors\" or \"lizard\":\n",
    "            cpu_score = cpu_score + 1\n",
    "            print(\"You lose!\")\n",
    "            print('Current score is Player:',player_score,'CPU:',cpu_score)\n",
    "        else:\n",
    "            player_score = player_score + 1\n",
    "            print(\"You win!\")\n",
    "            print('Current score is Player:',player_score,'CPU:',cpu_score)\n",
    "    elif player_choice == \"scissors\":\n",
    "        if cpu_choice == \"rock\" or \"spock\":\n",
    "            cpu_score = cpu_score + 1\n",
    "            print(\"You lose...\")\n",
    "            print('Current score is Player:',player_score,'CPU:',cpu_score)\n",
    "        else:\n",
    "            player_score = player_score + 1\n",
    "            print(\"You win!\")\n",
    "            print('Current score is Player:',player_score,'CPU:',cpu_score)\n",
    "    elif player_choice == \"spock\":\n",
    "        if cpu_choice == \"lizard\" or \"paper\":\n",
    "            cpu_score = cpu_score + 1\n",
    "            print(\"You lose...\")\n",
    "            print('Current score is Player:',player_score,'CPU:',cpu_score)\n",
    "        else:\n",
    "            player_score = player_score + 1\n",
    "            print(\"You win!\")\n",
    "            print('Current score is Player:',player_score,'CPU:',cpu_score)\n",
    "    elif player_choice == \"lizard\":\n",
    "        if cpu_choice == \"rock\" or \"scissor\":\n",
    "            cpu_score = cpu_score + 1\n",
    "            print(\"You lose...\")\n",
    "            print('Current score is Player:',player_score,'CPU:',cpu_score)\n",
    "        else:\n",
    "            player_score = player_score + 1\n",
    "            print(\"You win!\")\n",
    "            print('Current score is Player:',player_score,'CPU:',cpu_score)\n",
    "    if c_rounds == 10: break\n",
    "    if cpu_score == rock3: break\n",
    "    if player_score == 3: break\n",
    "\n",
    "if player_score > cpu_score:\n",
    "    print('The game is over! Humans do better! The player has won with a final score of Player:',player_score,'CPU:',cpu_score)\n",
    "else: print('The game is over! Are machines greater than humans? It seems they are! CPU has won with a final score of Player:',player_score,'CPU:',cpu_score)"
   ]
  },
  {
   "cell_type": "raw",
   "metadata": {},
   "source": []
  }
 ],
 "metadata": {
  "kernelspec": {
   "display_name": "Python 3",
   "language": "python",
   "name": "python3"
  },
  "language_info": {
   "codemirror_mode": {
    "name": "ipython",
    "version": 3
   },
   "file_extension": ".py",
   "mimetype": "text/x-python",
   "name": "python",
   "nbconvert_exporter": "python",
   "pygments_lexer": "ipython3",
   "version": "3.7.3"
  }
 },
 "nbformat": 4,
 "nbformat_minor": 2
}
