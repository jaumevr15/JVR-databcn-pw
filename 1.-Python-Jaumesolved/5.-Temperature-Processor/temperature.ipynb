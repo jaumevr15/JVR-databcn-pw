{
 "cells": [
  {
   "cell_type": "markdown",
   "metadata": {},
   "source": [
    "<img src=\"https://bit.ly/2VnXWr2\" width=\"100\" align=\"left\">"
   ]
  },
  {
   "cell_type": "markdown",
   "metadata": {},
   "source": [
    "# Temperature Sensor\n",
    "\n",
    "There is a temperature sensor in the processor of your company's server. The company wants to analyze the data provided by the sensor to decide if they should change the cooling system for a better one. As changing the cooling system is expensive and you are an excellent data analyst, you can't make a decision without basis.\n",
    "\n",
    "## Tools\n",
    "You don't necessarily need to use all the tools. Maybe you opt to use some of them or completely different ones, they are given to help you shape the exercise. Programming exercises can be solved in many different ways.\n",
    "1. Data structures: **lists**\n",
    "2. Loops: **list comprehension**\n",
    "3. Functions: **min, max, print, len**\n",
    "4. Conditional statements: **if-elif-else**\n",
    "\n",
    "## Tasks\n",
    "The temperatures measured throughout the 24 hours of a day are:"
   ]
  },
  {
   "cell_type": "code",
   "execution_count": null,
   "metadata": {},
   "outputs": [],
   "source": [
    "temperatures_C = [33, 66, 65, 0, 59, 60, 62, 64, 70, 76, 80, 81, 80, 83, 90, 79, 61, 53, 50, 49, 53, 48, 45, 39]"
   ]
  },
  {
   "cell_type": "markdown",
   "metadata": {},
   "source": [
    "The first element of the list is the temperature at 12am, the second element is the temperature at 1am, and so on. \n",
    "\n",
    "The company has decided that if one of the following events occurs, then the cooling system needs to be replaced for a new one to avoid damaging the processor.\n",
    "* More than 4 temperatures are greater than or equal to 70ºC.\n",
    "* Any temperature is above 80ºC.\n",
    "* The average temperature exceeds 65ºC.\n",
    "\n",
    "Follow the steps so that you can make the decision.\n",
    "\n",
    "#### 1. Find the minimum temperature of the day and store it in a variable."
   ]
  },
  {
   "cell_type": "code",
   "execution_count": 6,
   "metadata": {},
   "outputs": [
    {
     "name": "stdout",
     "output_type": "stream",
     "text": [
      "0\n"
     ]
    }
   ],
   "source": [
    "temperatures_C = [33, 66, 65, 0, 59, 60, 62, 64, 70, 76, 80, 81, 80, 83, 90, 79, 61, 53, 50, 49, 53, 48, 45, 39]\n",
    "minimumt = min(temperatures_C)\n",
    "print(minimumt)"
   ]
  },
  {
   "cell_type": "markdown",
   "metadata": {},
   "source": [
    "#### 2. Find the maximum temperature of the day and store it in a variable."
   ]
  },
  {
   "cell_type": "code",
   "execution_count": 4,
   "metadata": {},
   "outputs": [
    {
     "name": "stdout",
     "output_type": "stream",
     "text": [
      "90\n"
     ]
    }
   ],
   "source": [
    "temperatures_C = [33, 66, 65, 0, 59, 60, 62, 64, 70, 76, 80, 81, 80, 83, 90, 79, 61, 53, 50, 49, 53, 48, 45, 39]\n",
    "maximumt = max(temperatures_C)\n",
    "print(maximumt)"
   ]
  },
  {
   "cell_type": "markdown",
   "metadata": {},
   "source": [
    "#### 3. Create a list with the temperatures that are greater than or equal to 70ºC. Store it in a variable."
   ]
  },
  {
   "cell_type": "code",
   "execution_count": 5,
   "metadata": {},
   "outputs": [
    {
     "name": "stdout",
     "output_type": "stream",
     "text": [
      "[70, 76, 80, 81, 80, 83, 90, 79]\n"
     ]
    }
   ],
   "source": [
    "temperatures_C = [33, 66, 65, 0, 59, 60, 62, 64, 70, 76, 80, 81, 80, 83, 90, 79, 61, 53, 50, 49, 53, 48, 45, 39]\n",
    "greater70 = list()\n",
    "for t in temperatures_C:\n",
    "    if t >= 70:\n",
    "        greater70.append(t)\n",
    "print(greater70)"
   ]
  },
  {
   "cell_type": "markdown",
   "metadata": {},
   "source": [
    "#### 4. Find the average temperature of the day and store it in a variable."
   ]
  },
  {
   "cell_type": "code",
   "execution_count": 7,
   "metadata": {},
   "outputs": [
    {
     "name": "stdout",
     "output_type": "stream",
     "text": [
      "60.25\n"
     ]
    }
   ],
   "source": [
    "temperatures_C = [33, 66, 65, 0, 59, 60, 62, 64, 70, 76, 80, 81, 80, 83, 90, 79, 61, 53, 50, 49, 53, 48, 45, 39]\n",
    "dayavg = (sum(temperatures_C)/len(temperatures_C))\n",
    "print(dayavg)"
   ]
  },
  {
   "cell_type": "markdown",
   "metadata": {},
   "source": [
    "#### 5. Imagine that there was a sensor failure at 3am and the data for that specific hour was not recorded. How would you estimate the missing value? Replace the current value of the list at 3am for an estimation. "
   ]
  },
  {
   "cell_type": "code",
   "execution_count": 21,
   "metadata": {},
   "outputs": [
    {
     "name": "stdout",
     "output_type": "stream",
     "text": [
      "The predicted temperature at 3am is: 59.3125 C degrees.\n",
      "Updated list: [33, 66, 65, 59.3125, 59, 60, 62, 64, 70, 76, 80, 81, 80, 83, 90, 79, 61, 53, 50, 49, 53, 48, 45, 39]\n"
     ]
    }
   ],
   "source": [
    "temperatures_C = [33, 66, 65, 0, 59, 60, 62, 64, 70, 76, 80, 81, 80, 83, 90, 79, 61, 53, 50, 49, 53, 48, 45, 39]\n",
    "# temp_predict = average + b * hour\n",
    "average = (sum(temperatures_C)/len(temperatures_C))\n",
    "# Finding b using 4am data\n",
    "# 59 = 60.25 + b * 4\n",
    "# 59 - 60.25 = b * 4\n",
    "# -1.25/4 = b\n",
    "b = -(1.25/4)\n",
    "# Calculating temperature at 3 o'clock\n",
    "temp_predict = float(average) + (float(b) * 3)\n",
    "print('The predicted temperature at 3am is:',temp_predict,'C degrees.')\n",
    "temperatures_C[3] = temp_predict\n",
    "print('Updated list:',temperatures_C)"
   ]
  },
  {
   "cell_type": "markdown",
   "metadata": {},
   "source": [
    "#### 6. Bonus: the maintenance staff is from the United States and does not understand the international metric system. Help them by converting the temperatures from Celsius to Fahrenheit.\n",
    "To know more about temperature conversion check this [link](https://en.wikipedia.org/wiki/Conversion_of_units_of_temperature).\n",
    "\n",
    "**Formula**: \n",
    "\n",
    "$F = 1.8 * C + 32$"
   ]
  },
  {
   "cell_type": "code",
   "execution_count": 26,
   "metadata": {},
   "outputs": [
    {
     "name": "stdout",
     "output_type": "stream",
     "text": [
      "Converted list of temperatures in Farenheit: [91.4, 150.8, 149.0, 138.76, 138.2, 140.0, 143.6, 147.2, 158.0, 168.8, 176.0, 177.8, 176.0, 181.4, 194.0, 174.2, 141.8, 127.4, 122.0, 120.2, 127.4, 118.4, 113.0, 102.2]\n"
     ]
    }
   ],
   "source": [
    "temperatures_C = [33, 66, 65, 59.3125, 59, 60, 62, 64, 70, 76, 80, 81, 80, 83, 90, 79, 61, 53, 50, 49, 53, 48, 45, 39]\n",
    "temperatures_F = list()\n",
    "# We use f as individuals Farenheit temperatures\n",
    "f = 0\n",
    "for t in temperatures_C:\n",
    "    f = 1.8 * t + 32\n",
    "    f = round(f,2)\n",
    "    temperatures_F.append(f)\n",
    "print('Converted list of temperatures in Farenheit:',temperatures_F)"
   ]
  },
  {
   "cell_type": "markdown",
   "metadata": {},
   "source": [
    "#### 7. Make a decision!\n",
    "Now it's time to make a decision taking into account what you have seen until now. \n",
    "\n",
    "Remember that if one of the following events occurs, then the cooling system needs to be replaced for a new one to avoid damaging the processor.\n",
    "* More than 4 temperatures are greater than or equal to 70ºC.\n",
    "* Any temperature is above 80ºC.\n",
    "* The average temperature exceeds 65ºC.\n",
    "\n",
    "#### To make your decision, check if any of the three conditions above is met. You might need to use some of the variables you created in steps 1 to 6. Print a message to show if the cooling system needs to be changed or not."
   ]
  },
  {
   "cell_type": "code",
   "execution_count": 57,
   "metadata": {},
   "outputs": [
    {
     "name": "stdout",
     "output_type": "stream",
     "text": [
      "REPLACE! Code: Problem80 found at time 12\n"
     ]
    }
   ],
   "source": [
    "temperatures_C = [33, 66, 65, 59.31, 59, 60, 62, 64, 70, 76, 80, 81, 80, 83, 90, 79, 61, 53, 50, 49, 53, 48, 45, 39]\n",
    "greater70 = list()\n",
    "current_time = 0\n",
    "average = (sum(temperatures_C)/len(temperatures_C))\n",
    "for t in temperatures_C:\n",
    "    current_time = current_time + 1\n",
    "    if t >= 70:\n",
    "        greater70.append(t)\n",
    "    if len(greater70) > 4:\n",
    "        print('REPLACE! code: Problem70 found at time',current_time,)\n",
    "        break\n",
    "    if t > 80:\n",
    "        print('REPLACE! Code: Problem80 found at time',current_time,)\n",
    "        break\n",
    "    if average > 65:\n",
    "        print('REPLACE! Code: Problem65 found at time',current_time,)\n",
    "        break\n",
    "            \n",
    "    "
   ]
  },
  {
   "cell_type": "markdown",
   "metadata": {},
   "source": [
    "## Bonus\n",
    "\n",
    "The company has decided that the decision you made is not valid. They want you to analyze the data again but this time, the conditions that need to be met in order to change the cooling system are different.\n",
    "\n",
    "This time, if one of the following events occurs, then the cooling system needs to be replaced:\n",
    "* The temperature is greater than 70ºC during more than 4 consecutive hours.\n",
    "* Any temperature is above 80ºC.\n",
    "* The average temperature exceeds 65ºC.\n",
    "\n",
    "Follow the steps so that you can make the decision.\n",
    "\n",
    "#### 1. Create a list with the hours where the temperature is greater than 70ºC. Store it in a variable."
   ]
  },
  {
   "cell_type": "code",
   "execution_count": 59,
   "metadata": {},
   "outputs": [
    {
     "name": "stdout",
     "output_type": "stream",
     "text": [
      "[10, 11, 12, 13, 14, 15, 16]\n"
     ]
    }
   ],
   "source": [
    "temperatures_C = [33, 66, 65, 59.31, 59, 60, 62, 64, 70, 76, 80, 81, 80, 83, 90, 79, 61, 53, 50, 49, 53, 48, 45, 39]\n",
    "greater70 = list()\n",
    "hour = 0\n",
    "for t in temperatures_C:\n",
    "    hour = hour + 1\n",
    "    if t > 70:\n",
    "        greater70.append(hour)\n",
    "print(greater70)"
   ]
  },
  {
   "cell_type": "markdown",
   "metadata": {},
   "source": [
    "#### 2. Check if the list you created in step 1 has more than 4 consecutive hours. "
   ]
  },
  {
   "cell_type": "code",
   "execution_count": 125,
   "metadata": {},
   "outputs": [
    {
     "name": "stdout",
     "output_type": "stream",
     "text": [
      "Consecutive between 10 and 13\n",
      "They are consecutive from 10 to 16\n"
     ]
    }
   ],
   "source": [
    "temperatures_C = [33, 66, 65, 59.31, 59, 60, 62, 64, 70, 76, 80, 81, 80, 83, 90, 79, 61, 53, 50, 49, 53, 48, 45, 39]\n",
    "greater70 = list()\n",
    "hour = 0\n",
    "for t in temperatures_C:\n",
    "    hour = hour + 1\n",
    "    if t > 70:\n",
    "        greater70.append(hour)   \n",
    "\n",
    "# This following code tells us if there are 4 consecutive hours at any of the times where temperature is above 70.\n",
    "pos = list(range(len(greater70)))\n",
    "for p in pos:\n",
    "    if greater70[p+3] - greater70[p] >= 3:\n",
    "        print('Consecutive between',greater70[p],'and',greater70[p+3])\n",
    "        break\n",
    "    else: print('They are not consecutive')\n",
    "\n",
    "# This following code tells us what is the longest consecutive time having a temperature above 70.\n",
    "# But please note I am not satisfied with this code as it only works with this particular case.\n",
    "initial = 0\n",
    "final = 0\n",
    "for p in pos:\n",
    "    if p+1 == (len(greater70)): break\n",
    "    if greater70[p+1] - greater70[p] is 1:\n",
    "        if initial == 0:\n",
    "            initial = greater70[p]\n",
    "            if greater70[p] > initial: continue\n",
    "        if final == 0:\n",
    "            final = greater70[p+1]\n",
    "        if greater70[p+1] > final:\n",
    "            final = greater70[p+1]\n",
    "print('They are consecutive from',initial,'to',final)\n",
    "    \n"
   ]
  },
  {
   "cell_type": "markdown",
   "metadata": {},
   "source": [
    "#### 3. Make the decision!\n",
    "To make your decision, check if any of the three conditions is met. Print a message to show if the cooling system needs to be changed or not."
   ]
  },
  {
   "cell_type": "code",
   "execution_count": 134,
   "metadata": {},
   "outputs": [
    {
     "name": "stdout",
     "output_type": "stream",
     "text": [
      "REPLACE! Code: Problem80 found at time 12\n"
     ]
    }
   ],
   "source": [
    "temperatures_C = [33, 66, 65, 59.31, 59, 60, 62, 64, 70, 76, 80, 81, 80, 83, 90, 79, 61, 53, 50, 49, 53, 48, 45, 39]\n",
    "greater70 = list()\n",
    "current_time = 0\n",
    "average = (sum(temperatures_C)/len(temperatures_C))\n",
    "for t in temperatures_C:\n",
    "    current_time = current_time + 1\n",
    "    if t >= 70:\n",
    "        greater70.append(current_time)\n",
    "    if len(greater70) >= 4:\n",
    "        if greater70[0] - greater70[3] == 3:\n",
    "            print('REPLACE! code: Problem70 found at time',current_time,)\n",
    "            break\n",
    "    if t > 80:\n",
    "        print('REPLACE! Code: Problem80 found at time',current_time,)\n",
    "        break\n",
    "    if average > 65:\n",
    "        print('REPLACE! Code: Problem65 found at time',current_time,)\n",
    "        break"
   ]
  },
  {
   "cell_type": "markdown",
   "metadata": {},
   "source": [
    "#### 4. Find the average value of the temperature lists (ºC and ºF). What is the relation between both average values?"
   ]
  },
  {
   "cell_type": "code",
   "execution_count": 144,
   "metadata": {},
   "outputs": [
    {
     "name": "stdout",
     "output_type": "stream",
     "text": [
      "The average of the temperatures in Celsius is 62.72 degrees.\n",
      "The average of the temperatures in Farenheit is 144.9 degrees.\n",
      "Both averages are connected to the temperature convertor formula\n"
     ]
    }
   ],
   "source": [
    "temperatures_C = [33, 66, 65, 59.31, 59, 60, 62, 64, 70, 76, 80, 81, 80, 83, 90, 79, 61, 53, 50, 49, 53, 48, 45, 39]\n",
    "temperatures_F = [91.4, 150.8, 149.0, 138.76, 138.2, 140.0, 143.6, 147.2, 158.0, 168.8, 176.0, 177.8, 176.0, 181.4, 194.0, 174.2, 141.8, 127.4, 122.0, 120.2, 127.4, 118.4, 113.0, 102.2]\n",
    "avgC = sum(temperatures_C)/len(temperatures_C)\n",
    "avgC = round(avgC,2)\n",
    "avgF = sum(temperatures_F)/len(temperatures_F)\n",
    "avgF = round(avgF,2)\n",
    "print('The average of the temperatures in Celsius is',avgC,'degrees.')\n",
    "print('The average of the temperatures in Farenheit is',avgF,'degrees.')\n",
    "#Let's check if the formula f = 1.8 * t + 32 applies:\n",
    "avgC = sum(temperatures_C)/len(temperatures_C)\n",
    "avgF = sum(temperatures_F)/len(temperatures_F)\n",
    "f = 1.8 * avgC + 32\n",
    "f = round(f,2)\n",
    "avgF = round(avgF,2)\n",
    "if f == avgF:\n",
    "    print('Both averages are connected to the temperature convertor formula')\n",
    "else: \n",
    "    print('Something wrong happened as I cannot find the relation')"
   ]
  },
  {
   "cell_type": "markdown",
   "metadata": {},
   "source": [
    "#### 5. Find the standard deviation of the temperature lists (ºC and ºF). What is the relation between both standard deviations?"
   ]
  },
  {
   "cell_type": "code",
   "execution_count": 163,
   "metadata": {},
   "outputs": [
    {
     "name": "stdout",
     "output_type": "stream",
     "text": [
      "Standard deviation of Celsius is 14.65\n",
      "Standard deviation of Farenheit is 26.37\n",
      "26.37\n",
      "The relation is 1.8 as the formula\n"
     ]
    }
   ],
   "source": [
    "temperatures_C = [33, 66, 65, 59.31, 59, 60, 62, 64, 70, 76, 80, 81, 80, 83, 90, 79, 61, 53, 50, 49, 53, 48, 45, 39]\n",
    "temperatures_F = [91.4, 150.8, 149.0, 138.76, 138.2, 140.0, 143.6, 147.2, 158.0, 168.8, 176.0, 177.8, 176.0, 181.4, 194.0, 174.2, 141.8, 127.4, 122.0, 120.2, 127.4, 118.4, 113.0, 102.2]\n",
    "avgC = sum(temperatures_C)/len(temperatures_C)\n",
    "avgC = round(avgC,2)\n",
    "avgF = sum(temperatures_F)/len(temperatures_F)\n",
    "\n",
    "varC = sum(pow(d-avgC,2) for d in temperatures_C) / len(temperatures_C)\n",
    "stdC = (varC)**(1/2)\n",
    "stdC = round(stdC,2)\n",
    "varF = sum(pow(d-avgF,2) for d in temperatures_F) / len(temperatures_F)\n",
    "stdF = (varF)**(1/2)\n",
    "stdF = round(stdF,2)\n",
    "print('Standard deviation of Celsius is',stdC)\n",
    "print('Standard deviation of Farenheit is',stdF)\n",
    "\n",
    "#If we multiply the Standard Deviation of Celsius to 1.8 (as the formula) does it give us the Standard Deviation of Farenheit?\n",
    "testCtoF = stdC * 1.8\n",
    "print(testCtoF)\n",
    "\n",
    "if testCtoF == stdF:\n",
    "    print('The relation is 1.8 as the formula')\n",
    "else: print('No found relation')\n"
   ]
  },
  {
   "cell_type": "code",
   "execution_count": null,
   "metadata": {},
   "outputs": [],
   "source": []
  },
  {
   "cell_type": "code",
   "execution_count": null,
   "metadata": {},
   "outputs": [],
   "source": []
  }
 ],
 "metadata": {
  "kernelspec": {
   "display_name": "Python 3",
   "language": "python",
   "name": "python3"
  },
  "language_info": {
   "codemirror_mode": {
    "name": "ipython",
    "version": 3
   },
   "file_extension": ".py",
   "mimetype": "text/x-python",
   "name": "python",
   "nbconvert_exporter": "python",
   "pygments_lexer": "ipython3",
   "version": "3.7.3"
  }
 },
 "nbformat": 4,
 "nbformat_minor": 2
}
